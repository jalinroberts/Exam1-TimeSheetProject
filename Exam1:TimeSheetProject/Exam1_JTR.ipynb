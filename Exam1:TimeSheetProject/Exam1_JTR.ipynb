{
 "cells": [
  {
   "cell_type": "markdown",
   "id": "a2146bda",
   "metadata": {
    "id": "a2146bda"
   },
   "source": [
    "# Programming Project 1 analysis using EDA tools"
   ]
  },
  {
   "cell_type": "markdown",
   "id": "80ebb0b7",
   "metadata": {
    "id": "80ebb0b7"
   },
   "source": [
    "### Import Modules"
   ]
  },
  {
   "cell_type": "code",
   "execution_count": 2,
   "id": "b88f1a96",
   "metadata": {
    "id": "b88f1a96"
   },
   "outputs": [],
   "source": [
    "import pandas as pd\n",
    "import numpy as np\n",
    "import matplotlib.pyplot as plt\n",
    "import seaborn as sns"
   ]
  },
  {
   "cell_type": "code",
   "execution_count": 3,
   "id": "c25d2afb",
   "metadata": {
    "id": "c25d2afb"
   },
   "outputs": [],
   "source": [
    "# Load the dataset and save it to a dataframe named 'df'\n",
    "df = pd.read_csv('Individual_Project_1.csv')"
   ]
  },
  {
   "cell_type": "markdown",
   "id": "aa8079a6",
   "metadata": {
    "id": "aa8079a6"
   },
   "source": [
    "### Investigate your dataset using pandas modules and do the tasks. At the end the dataframe will be look like: \n",
    "![image.png](attachment:image.png)"
   ]
  },
  {
   "cell_type": "code",
   "execution_count": 4,
   "id": "5ecd1215",
   "metadata": {
    "colab": {
     "base_uri": "https://localhost:8080/",
     "height": 206
    },
    "id": "5ecd1215",
    "outputId": "a2d5c1d0-b4e3-4033-bef6-65cecc55646d"
   },
   "outputs": [
    {
     "data": {
      "text/html": [
       "\n",
       "  <div id=\"df-90ef11a5-9bb1-4df9-87b3-4cc54ffd21be\">\n",
       "    <div class=\"colab-df-container\">\n",
       "      <div>\n",
       "<style scoped>\n",
       "    .dataframe tbody tr th:only-of-type {\n",
       "        vertical-align: middle;\n",
       "    }\n",
       "\n",
       "    .dataframe tbody tr th {\n",
       "        vertical-align: top;\n",
       "    }\n",
       "\n",
       "    .dataframe thead th {\n",
       "        text-align: right;\n",
       "    }\n",
       "</style>\n",
       "<table border=\"1\" class=\"dataframe\">\n",
       "  <thead>\n",
       "    <tr style=\"text-align: right;\">\n",
       "      <th></th>\n",
       "      <th>Initials</th>\n",
       "      <th>Date</th>\n",
       "      <th>Course_ID</th>\n",
       "      <th>time(m)</th>\n",
       "      <th>Summary</th>\n",
       "    </tr>\n",
       "  </thead>\n",
       "  <tbody>\n",
       "    <tr>\n",
       "      <th>0</th>\n",
       "      <td>JR</td>\n",
       "      <td>1/9/23</td>\n",
       "      <td>MATH-117-01</td>\n",
       "      <td>25</td>\n",
       "      <td>Studied Chapter 1.1</td>\n",
       "    </tr>\n",
       "    <tr>\n",
       "      <th>1</th>\n",
       "      <td>JR</td>\n",
       "      <td>1/10/23</td>\n",
       "      <td>MATH 205-02</td>\n",
       "      <td>15</td>\n",
       "      <td>Read into Syllabus</td>\n",
       "    </tr>\n",
       "    <tr>\n",
       "      <th>2</th>\n",
       "      <td>JR</td>\n",
       "      <td>1/11/23</td>\n",
       "      <td>MATH-117-01</td>\n",
       "      <td>30</td>\n",
       "      <td>Studied Chapter 2.1 practice problems</td>\n",
       "    </tr>\n",
       "    <tr>\n",
       "      <th>3</th>\n",
       "      <td>JR</td>\n",
       "      <td>1/12/23</td>\n",
       "      <td>MATH 205-02</td>\n",
       "      <td>60</td>\n",
       "      <td>Tutoring session for chapter 1</td>\n",
       "    </tr>\n",
       "    <tr>\n",
       "      <th>4</th>\n",
       "      <td>JR</td>\n",
       "      <td>1/13/23</td>\n",
       "      <td>DS-160-01</td>\n",
       "      <td>20</td>\n",
       "      <td>Looked further into excel formulas</td>\n",
       "    </tr>\n",
       "  </tbody>\n",
       "</table>\n",
       "</div>\n",
       "      <button class=\"colab-df-convert\" onclick=\"convertToInteractive('df-90ef11a5-9bb1-4df9-87b3-4cc54ffd21be')\"\n",
       "              title=\"Convert this dataframe to an interactive table.\"\n",
       "              style=\"display:none;\">\n",
       "        \n",
       "  <svg xmlns=\"http://www.w3.org/2000/svg\" height=\"24px\"viewBox=\"0 0 24 24\"\n",
       "       width=\"24px\">\n",
       "    <path d=\"M0 0h24v24H0V0z\" fill=\"none\"/>\n",
       "    <path d=\"M18.56 5.44l.94 2.06.94-2.06 2.06-.94-2.06-.94-.94-2.06-.94 2.06-2.06.94zm-11 1L8.5 8.5l.94-2.06 2.06-.94-2.06-.94L8.5 2.5l-.94 2.06-2.06.94zm10 10l.94 2.06.94-2.06 2.06-.94-2.06-.94-.94-2.06-.94 2.06-2.06.94z\"/><path d=\"M17.41 7.96l-1.37-1.37c-.4-.4-.92-.59-1.43-.59-.52 0-1.04.2-1.43.59L10.3 9.45l-7.72 7.72c-.78.78-.78 2.05 0 2.83L4 21.41c.39.39.9.59 1.41.59.51 0 1.02-.2 1.41-.59l7.78-7.78 2.81-2.81c.8-.78.8-2.07 0-2.86zM5.41 20L4 18.59l7.72-7.72 1.47 1.35L5.41 20z\"/>\n",
       "  </svg>\n",
       "      </button>\n",
       "      \n",
       "  <style>\n",
       "    .colab-df-container {\n",
       "      display:flex;\n",
       "      flex-wrap:wrap;\n",
       "      gap: 12px;\n",
       "    }\n",
       "\n",
       "    .colab-df-convert {\n",
       "      background-color: #E8F0FE;\n",
       "      border: none;\n",
       "      border-radius: 50%;\n",
       "      cursor: pointer;\n",
       "      display: none;\n",
       "      fill: #1967D2;\n",
       "      height: 32px;\n",
       "      padding: 0 0 0 0;\n",
       "      width: 32px;\n",
       "    }\n",
       "\n",
       "    .colab-df-convert:hover {\n",
       "      background-color: #E2EBFA;\n",
       "      box-shadow: 0px 1px 2px rgba(60, 64, 67, 0.3), 0px 1px 3px 1px rgba(60, 64, 67, 0.15);\n",
       "      fill: #174EA6;\n",
       "    }\n",
       "\n",
       "    [theme=dark] .colab-df-convert {\n",
       "      background-color: #3B4455;\n",
       "      fill: #D2E3FC;\n",
       "    }\n",
       "\n",
       "    [theme=dark] .colab-df-convert:hover {\n",
       "      background-color: #434B5C;\n",
       "      box-shadow: 0px 1px 3px 1px rgba(0, 0, 0, 0.15);\n",
       "      filter: drop-shadow(0px 1px 2px rgba(0, 0, 0, 0.3));\n",
       "      fill: #FFFFFF;\n",
       "    }\n",
       "  </style>\n",
       "\n",
       "      <script>\n",
       "        const buttonEl =\n",
       "          document.querySelector('#df-90ef11a5-9bb1-4df9-87b3-4cc54ffd21be button.colab-df-convert');\n",
       "        buttonEl.style.display =\n",
       "          google.colab.kernel.accessAllowed ? 'block' : 'none';\n",
       "\n",
       "        async function convertToInteractive(key) {\n",
       "          const element = document.querySelector('#df-90ef11a5-9bb1-4df9-87b3-4cc54ffd21be');\n",
       "          const dataTable =\n",
       "            await google.colab.kernel.invokeFunction('convertToInteractive',\n",
       "                                                     [key], {});\n",
       "          if (!dataTable) return;\n",
       "\n",
       "          const docLinkHtml = 'Like what you see? Visit the ' +\n",
       "            '<a target=\"_blank\" href=https://colab.research.google.com/notebooks/data_table.ipynb>data table notebook</a>'\n",
       "            + ' to learn more about interactive tables.';\n",
       "          element.innerHTML = '';\n",
       "          dataTable['output_type'] = 'display_data';\n",
       "          await google.colab.output.renderOutput(dataTable, element);\n",
       "          const docLink = document.createElement('div');\n",
       "          docLink.innerHTML = docLinkHtml;\n",
       "          element.appendChild(docLink);\n",
       "        }\n",
       "      </script>\n",
       "    </div>\n",
       "  </div>\n",
       "  "
      ],
      "text/plain": [
       "  Initials     Date    Course_ID  time(m)  \\\n",
       "0       JR   1/9/23  MATH-117-01       25   \n",
       "1       JR  1/10/23  MATH 205-02       15   \n",
       "2       JR  1/11/23  MATH-117-01       30   \n",
       "3       JR  1/12/23  MATH 205-02       60   \n",
       "4       JR  1/13/23    DS-160-01       20   \n",
       "\n",
       "                                 Summary  \n",
       "0                    Studied Chapter 1.1  \n",
       "1                     Read into Syllabus  \n",
       "2  Studied Chapter 2.1 practice problems  \n",
       "3         Tutoring session for chapter 1  \n",
       "4     Looked further into excel formulas  "
      ]
     },
     "execution_count": 4,
     "metadata": {},
     "output_type": "execute_result"
    }
   ],
   "source": [
    "df.head()"
   ]
  },
  {
   "cell_type": "code",
   "execution_count": 5,
   "id": "59f62759",
   "metadata": {
    "colab": {
     "base_uri": "https://localhost:8080/"
    },
    "id": "59f62759",
    "outputId": "d12c0002-6136-41b7-fa88-deb8368a8787"
   },
   "outputs": [
    {
     "data": {
      "text/plain": [
       "(35, 5)"
      ]
     },
     "execution_count": 5,
     "metadata": {},
     "output_type": "execute_result"
    }
   ],
   "source": [
    "df.shape"
   ]
  },
  {
   "cell_type": "code",
   "execution_count": 6,
   "id": "454b01db",
   "metadata": {
    "colab": {
     "base_uri": "https://localhost:8080/"
    },
    "id": "454b01db",
    "outputId": "14d44d57-3683-4730-c0dc-de9ce44446c9"
   },
   "outputs": [
    {
     "name": "stdout",
     "output_type": "stream",
     "text": [
      "<class 'pandas.core.frame.DataFrame'>\n",
      "RangeIndex: 35 entries, 0 to 34\n",
      "Data columns (total 5 columns):\n",
      " #   Column     Non-Null Count  Dtype \n",
      "---  ------     --------------  ----- \n",
      " 0   Initials   35 non-null     object\n",
      " 1   Date       35 non-null     object\n",
      " 2   Course_ID  35 non-null     object\n",
      " 3   time(m)    35 non-null     int64 \n",
      " 4   Summary    35 non-null     object\n",
      "dtypes: int64(1), object(4)\n",
      "memory usage: 1.5+ KB\n"
     ]
    }
   ],
   "source": [
    "df.info()"
   ]
  },
  {
   "cell_type": "code",
   "execution_count": 7,
   "id": "ad9d432e",
   "metadata": {
    "colab": {
     "base_uri": "https://localhost:8080/"
    },
    "id": "ad9d432e",
    "outputId": "884cf305-5a19-4304-a403-7cad0fea5e39"
   },
   "outputs": [
    {
     "data": {
      "text/plain": [
       "Initials     0\n",
       "Date         0\n",
       "Course_ID    0\n",
       "time(m)      0\n",
       "Summary      0\n",
       "dtype: int64"
      ]
     },
     "execution_count": 7,
     "metadata": {},
     "output_type": "execute_result"
    }
   ],
   "source": [
    "df.isna().sum()"
   ]
  },
  {
   "cell_type": "code",
   "execution_count": null,
   "id": "b7ad1bfd",
   "metadata": {
    "id": "b7ad1bfd"
   },
   "outputs": [],
   "source": [
    "# Is there any column you want to drop? If yes which column and why?\n",
    "yes Summary column I want to drop because it contains the text which is useless for the data analysis"
   ]
  },
  {
   "cell_type": "code",
   "execution_count": 8,
   "id": "1bdb0306",
   "metadata": {
    "id": "1bdb0306"
   },
   "outputs": [],
   "source": [
    "# Convert the date column to datetime\n",
    "df['Date'] = pd.to_datetime(df['Date'])"
   ]
  },
  {
   "cell_type": "code",
   "execution_count": 9,
   "id": "cacf85a4",
   "metadata": {
    "id": "cacf85a4"
   },
   "outputs": [],
   "source": [
    "# Calculate the day of the month and create a new column named 'Day'\n",
    "df['Day'] = df['Date'].dt.day"
   ]
  },
  {
   "cell_type": "code",
   "execution_count": null,
   "id": "9471fbf1",
   "metadata": {
    "id": "9471fbf1"
   },
   "outputs": [],
   "source": [
    "# Create a new column called Day_name using  .dt.day_name()\n"
   ]
  },
  {
   "cell_type": "markdown",
   "id": "ca955c1f",
   "metadata": {
    "id": "ca955c1f"
   },
   "source": [
    "### Answer the questions"
   ]
  },
  {
   "cell_type": "code",
   "execution_count": 10,
   "id": "d048d6d8",
   "metadata": {
    "id": "d048d6d8"
   },
   "outputs": [],
   "source": [
    "# What is the average time you have spend for learning?\n",
    "df['Day_name'] = df['Date'].dt.day_name()"
   ]
  },
  {
   "cell_type": "code",
   "execution_count": 11,
   "id": "3041de1c",
   "metadata": {
    "colab": {
     "base_uri": "https://localhost:8080/"
    },
    "id": "3041de1c",
    "outputId": "154ea498-2078-43a3-85b2-8831d61b5056"
   },
   "outputs": [
    {
     "name": "stdout",
     "output_type": "stream",
     "text": [
      "The average time spent for learning is: 80.85714285714286 minutes.\n"
     ]
    }
   ],
   "source": [
    "# Display all of the entries where you have spent more than the average time to learn \n",
    "avg_time = df['time(m)'].mean()\n",
    "print(\"The average time spent for learning is:\", avg_time, \"minutes.\")"
   ]
  },
  {
   "cell_type": "code",
   "execution_count": 12,
   "id": "18a45770",
   "metadata": {
    "colab": {
     "base_uri": "https://localhost:8080/"
    },
    "id": "18a45770",
    "outputId": "bc7a4d7e-0ac6-418c-ed1b-95f683ecde83"
   },
   "outputs": [
    {
     "name": "stdout",
     "output_type": "stream",
     "text": [
      "The course with the maximum time spent for preparation is: MATH-117-01\n"
     ]
    }
   ],
   "source": [
    "# Which course you have spent the maximum time to prepare?\n",
    "course_times = df.groupby('Course_ID')['time(m)'].sum()\n",
    "max_time_course = course_times.idxmax()\n",
    "print(\"The course with the maximum time spent for preparation is:\", max_time_course)"
   ]
  },
  {
   "cell_type": "code",
   "execution_count": 17,
   "id": "d4602f36",
   "metadata": {
    "colab": {
     "base_uri": "https://localhost:8080/"
    },
    "id": "d4602f36",
    "outputId": "9d23326c-6f5c-4674-b5de-4f1998e256a6"
   },
   "outputs": [
    {
     "name": "stdout",
     "output_type": "stream",
     "text": [
      "The day of the week with the most time spent for learning is: Sunday\n"
     ]
    }
   ],
   "source": [
    "# Which day of the week you sepent most of the time?\n",
    "day_times = df.groupby('Day_name')['time(m)'].sum()\n",
    "max_time_day = day_times.idxmax()\n",
    "print(\"The day of the week with the most time spent for learning is:\", max_time_day)"
   ]
  },
  {
   "cell_type": "markdown",
   "id": "7057b32b",
   "metadata": {
    "id": "7057b32b"
   },
   "source": [
    "### Investigate the distribution of Time, adding the mean. How the data distributed?\n",
    "![image.png](attachment:image.png)"
   ]
  },
  {
   "cell_type": "code",
   "execution_count": 18,
   "id": "1139d061",
   "metadata": {
    "colab": {
     "base_uri": "https://localhost:8080/",
     "height": 295
    },
    "id": "1139d061",
    "outputId": "0b802cdb-4d90-4582-a4fc-4a51dde30d1d"
   },
   "outputs": [
    {
     "data": {
      "image/png": "[encoded data removed]",
      "text/plain": [
       "<Figure size 432x288 with 1 Axes>"
      ]
     },
     "metadata": {
      "needs_background": "light"
     },
     "output_type": "display_data"
    }
   ],
   "source": [
    "time_mean = df['time(m)'].mean()\n",
    "\n",
    "df['time(m)'].plot(kind='hist', bins=10, edgecolor='black')\n",
    "plt.axvline(x=time_mean, color='r', linestyle='--', label='Mean')\n",
    "plt.xlabel('Time (minutes)')\n",
    "plt.ylabel('Frequency')\n",
    "plt.title('Histogram of Time Column with Mean')\n",
    "plt.legend()\n",
    "plt.show()"
   ]
  },
  {
   "cell_type": "markdown",
   "id": "eec25e2f",
   "metadata": {
    "id": "eec25e2f"
   },
   "source": [
    "### Investigate Total time by Day using bar plot - Remove the Confidence Interval - By Course ID. Comment on your findings.\n",
    "![image.png](attachment:image.png)"
   ]
  },
  {
   "cell_type": "code",
   "execution_count": 19,
   "id": "236ffedc",
   "metadata": {
    "colab": {
     "base_uri": "https://localhost:8080/",
     "height": 343
    },
    "id": "236ffedc",
    "outputId": "4ccd963e-c70d-465c-91ba-fdf55ebe0bb8"
   },
   "outputs": [
    {
     "data": {
      "image/png": "[encoded data removed]",
      "text/plain": [
       "<Figure size 432x288 with 1 Axes>"
      ]
     },
     "metadata": {
      "needs_background": "light"
     },
     "output_type": "display_data"
    }
   ],
   "source": [
    "grouped_data = df.groupby(['Day_name', 'Course_ID'])['time(m)'].sum().unstack()\n",
    "grouped_data.plot(kind='bar', edgecolor='black')\n",
    "plt.xlabel('Day of the Week')\n",
    "plt.ylabel('Total Time (minutes)')\n",
    "plt.title('Total Time Spent by Day and Course')\n",
    "plt.legend(title='Course ID', loc='center left', bbox_to_anchor=(1, 0.5))\n",
    "plt.show()"
   ]
  },
  {
   "cell_type": "markdown",
   "id": "5c2bd3a0",
   "metadata": {
    "id": "5c2bd3a0"
   },
   "source": [
    "### Investigate the measure of dispersion (table and plot) of time column.\n",
    "![image.png](attachment:image.png)"
   ]
  },
  {
   "cell_type": "code",
   "execution_count": 14,
   "id": "6040d143",
   "metadata": {
    "colab": {
     "base_uri": "https://localhost:8080/",
     "height": 343
    },
    "id": "6040d143",
    "outputId": "b9bd8f45-3dfd-43b4-bf2c-64a516ad8412"
   },
   "outputs": [
    {
     "data": {
      "image/png": "[encoded data removed]",
      "text/plain": [
       "<Figure size 432x288 with 1 Axes>"
      ]
     },
     "metadata": {
      "needs_background": "light"
     },
     "output_type": "display_data"
    }
   ],
   "source": []
  },
  {
   "cell_type": "markdown",
   "id": "78127f6e",
   "metadata": {
    "id": "78127f6e"
   },
   "source": [
    "### Investigate the the distribution of time by Day_name\n",
    "![image.png](attachment:image.png)"
   ]
  },
  {
   "cell_type": "code",
   "execution_count": 20,
   "id": "f803830d",
   "metadata": {
    "colab": {
     "base_uri": "https://localhost:8080/"
    },
    "id": "f803830d",
    "outputId": "86882855-4393-481f-9199-aa9d8db00334"
   },
   "outputs": [
    {
     "name": "stdout",
     "output_type": "stream",
     "text": [
      "      Range     Variance  Standard Deviation\n",
      "Time    285  3547.773109           59.563186\n"
     ]
    }
   ],
   "source": [
    "range_time = df['time(m)'].max() - df['time(m)'].min()\n",
    "var_time = df['time(m)'].var()\n",
    "std_time = df['time(m)'].std()\n",
    "\n",
    "dispersion_data = {'Range': range_time, 'Variance': var_time, 'Standard Deviation': std_time}\n",
    "dispersion_table = pd.DataFrame(dispersion_data, index=['Time'])\n",
    "print(dispersion_table)"
   ]
  },
  {
   "cell_type": "markdown",
   "id": "3fdf0d65",
   "metadata": {
    "id": "3fdf0d65"
   },
   "source": [
    "### Use lmplots to plot Day and Time , remove error bar, add hue and display by column\n",
    "![image.png](attachment:image.png)"
   ]
  },
  {
   "cell_type": "code",
   "execution_count": 10,
   "id": "d1a2b4bc",
   "metadata": {
    "id": "d1a2b4bc"
   },
   "outputs": [
    {
     "ename": "TypeError",
     "evalue": "string indices must be integers",
     "output_type": "error",
     "traceback": [
      "\u001b[0;31m---------------------------------------------------------------------------\u001b[0m",
      "\u001b[0;31mTypeError\u001b[0m                                 Traceback (most recent call last)",
      "\u001b[0;32m/var/folders/y_/cjxdj51j5znbssdf31jd68fw0000gn/T/ipykernel_4505/631286442.py\u001b[0m in \u001b[0;36m<module>\u001b[0;34m\u001b[0m\n\u001b[0;32m----> 1\u001b[0;31m lm_plot=sns.lmplot(x='Day_name',\n\u001b[0m\u001b[1;32m      2\u001b[0m                    \u001b[0my\u001b[0m\u001b[0;34m=\u001b[0m\u001b[0;34m'time(m)'\u001b[0m\u001b[0;34m,\u001b[0m\u001b[0;34m\u001b[0m\u001b[0;34m\u001b[0m\u001b[0m\n\u001b[1;32m      3\u001b[0m                    \u001b[0mdata\u001b[0m\u001b[0;34m=\u001b[0m\u001b[0;34m'df'\u001b[0m\u001b[0;34m,\u001b[0m\u001b[0;34m\u001b[0m\u001b[0;34m\u001b[0m\u001b[0m\n\u001b[1;32m      4\u001b[0m                    \u001b[0mhue\u001b[0m\u001b[0;34m=\u001b[0m\u001b[0;34m'Day/Time'\u001b[0m\u001b[0;34m,\u001b[0m\u001b[0;34m\u001b[0m\u001b[0;34m\u001b[0m\u001b[0m\n\u001b[1;32m      5\u001b[0m                   ci=False)\n",
      "\u001b[0;32m~/opt/anaconda3/lib/python3.9/site-packages/seaborn/_decorators.py\u001b[0m in \u001b[0;36minner_f\u001b[0;34m(*args, **kwargs)\u001b[0m\n\u001b[1;32m     44\u001b[0m             )\n\u001b[1;32m     45\u001b[0m         \u001b[0mkwargs\u001b[0m\u001b[0;34m.\u001b[0m\u001b[0mupdate\u001b[0m\u001b[0;34m(\u001b[0m\u001b[0;34m{\u001b[0m\u001b[0mk\u001b[0m\u001b[0;34m:\u001b[0m \u001b[0marg\u001b[0m \u001b[0;32mfor\u001b[0m \u001b[0mk\u001b[0m\u001b[0;34m,\u001b[0m \u001b[0marg\u001b[0m \u001b[0;32min\u001b[0m \u001b[0mzip\u001b[0m\u001b[0;34m(\u001b[0m\u001b[0msig\u001b[0m\u001b[0;34m.\u001b[0m\u001b[0mparameters\u001b[0m\u001b[0;34m,\u001b[0m \u001b[0margs\u001b[0m\u001b[0;34m)\u001b[0m\u001b[0;34m}\u001b[0m\u001b[0;34m)\u001b[0m\u001b[0;34m\u001b[0m\u001b[0;34m\u001b[0m\u001b[0m\n\u001b[0;32m---> 46\u001b[0;31m         \u001b[0;32mreturn\u001b[0m \u001b[0mf\u001b[0m\u001b[0;34m(\u001b[0m\u001b[0;34m**\u001b[0m\u001b[0mkwargs\u001b[0m\u001b[0;34m)\u001b[0m\u001b[0;34m\u001b[0m\u001b[0;34m\u001b[0m\u001b[0m\n\u001b[0m\u001b[1;32m     47\u001b[0m     \u001b[0;32mreturn\u001b[0m \u001b[0minner_f\u001b[0m\u001b[0;34m\u001b[0m\u001b[0;34m\u001b[0m\u001b[0m\n\u001b[1;32m     48\u001b[0m \u001b[0;34m\u001b[0m\u001b[0m\n",
      "\u001b[0;32m~/opt/anaconda3/lib/python3.9/site-packages/seaborn/regression.py\u001b[0m in \u001b[0;36mlmplot\u001b[0;34m(x, y, data, hue, col, row, palette, col_wrap, height, aspect, markers, sharex, sharey, hue_order, col_order, row_order, legend, legend_out, x_estimator, x_bins, x_ci, scatter, fit_reg, ci, n_boot, units, seed, order, logistic, lowess, robust, logx, x_partial, y_partial, truncate, x_jitter, y_jitter, scatter_kws, line_kws, facet_kws, size)\u001b[0m\n\u001b[1;32m    603\u001b[0m     \u001b[0mneed_cols\u001b[0m \u001b[0;34m=\u001b[0m \u001b[0;34m[\u001b[0m\u001b[0mx\u001b[0m\u001b[0;34m,\u001b[0m \u001b[0my\u001b[0m\u001b[0;34m,\u001b[0m \u001b[0mhue\u001b[0m\u001b[0;34m,\u001b[0m \u001b[0mcol\u001b[0m\u001b[0;34m,\u001b[0m \u001b[0mrow\u001b[0m\u001b[0;34m,\u001b[0m \u001b[0munits\u001b[0m\u001b[0;34m,\u001b[0m \u001b[0mx_partial\u001b[0m\u001b[0;34m,\u001b[0m \u001b[0my_partial\u001b[0m\u001b[0;34m]\u001b[0m\u001b[0;34m\u001b[0m\u001b[0;34m\u001b[0m\u001b[0m\n\u001b[1;32m    604\u001b[0m     \u001b[0mcols\u001b[0m \u001b[0;34m=\u001b[0m \u001b[0mnp\u001b[0m\u001b[0;34m.\u001b[0m\u001b[0munique\u001b[0m\u001b[0;34m(\u001b[0m\u001b[0;34m[\u001b[0m\u001b[0ma\u001b[0m \u001b[0;32mfor\u001b[0m \u001b[0ma\u001b[0m \u001b[0;32min\u001b[0m \u001b[0mneed_cols\u001b[0m \u001b[0;32mif\u001b[0m \u001b[0ma\u001b[0m \u001b[0;32mis\u001b[0m \u001b[0;32mnot\u001b[0m \u001b[0;32mNone\u001b[0m\u001b[0;34m]\u001b[0m\u001b[0;34m)\u001b[0m\u001b[0;34m.\u001b[0m\u001b[0mtolist\u001b[0m\u001b[0;34m(\u001b[0m\u001b[0;34m)\u001b[0m\u001b[0;34m\u001b[0m\u001b[0;34m\u001b[0m\u001b[0m\n\u001b[0;32m--> 605\u001b[0;31m     \u001b[0mdata\u001b[0m \u001b[0;34m=\u001b[0m \u001b[0mdata\u001b[0m\u001b[0;34m[\u001b[0m\u001b[0mcols\u001b[0m\u001b[0;34m]\u001b[0m\u001b[0;34m\u001b[0m\u001b[0;34m\u001b[0m\u001b[0m\n\u001b[0m\u001b[1;32m    606\u001b[0m \u001b[0;34m\u001b[0m\u001b[0m\n\u001b[1;32m    607\u001b[0m     \u001b[0;31m# Initialize the grid\u001b[0m\u001b[0;34m\u001b[0m\u001b[0;34m\u001b[0m\u001b[0m\n",
      "\u001b[0;31mTypeError\u001b[0m: string indices must be integers"
     ]
    }
   ],
   "source": [
    "lm_plot=sns.lmplot(x='Day_name',\n",
    "                   y='time(m)',\n",
    "                   data='df',\n",
    "                   hue='Day/Time',\n",
    "                  ci=False)"
   ]
  },
  {
   "cell_type": "markdown",
   "id": "3dcf7147",
   "metadata": {
    "id": "3dcf7147"
   },
   "source": [
    "### Create a pair plot of Day and Time and add course id as hue\n",
    "![image.png](attachment:image.png)"
   ]
  },
  {
   "cell_type": "code",
   "execution_count": 13,
   "id": "2d902a68",
   "metadata": {},
   "outputs": [
    {
     "ename": "NameError",
     "evalue": "name 'df' is not defined",
     "output_type": "error",
     "traceback": [
      "\u001b[0;31m---------------------------------------------------------------------------\u001b[0m",
      "\u001b[0;31mNameError\u001b[0m                                 Traceback (most recent call last)",
      "\u001b[0;32m/var/folders/y_/cjxdj51j5znbssdf31jd68fw0000gn/T/ipykernel_4505/3134481440.py\u001b[0m in \u001b[0;36m<module>\u001b[0;34m\u001b[0m\n\u001b[0;32m----> 1\u001b[0;31m \u001b[0mpair_plot\u001b[0m\u001b[0;34m=\u001b[0m\u001b[0msns\u001b[0m\u001b[0;34m.\u001b[0m\u001b[0mpairplot\u001b[0m\u001b[0;34m(\u001b[0m\u001b[0mdf\u001b[0m\u001b[0;34m[\u001b[0m\u001b[0;34m'Day_time'\u001b[0m\u001b[0;34m,\u001b[0m\u001b[0;34m'time(m)'\u001b[0m\u001b[0;34m]\u001b[0m\u001b[0;34m,\u001b[0m \u001b[0mhue\u001b[0m\u001b[0;34m=\u001b[0m\u001b[0;34m'Course ID'\u001b[0m\u001b[0;34m)\u001b[0m\u001b[0;34m\u001b[0m\u001b[0;34m\u001b[0m\u001b[0m\n\u001b[0m",
      "\u001b[0;31mNameError\u001b[0m: name 'df' is not defined"
     ]
    }
   ],
   "source": [
    "pair_plot=sns.pairplot(df['Day_time','time(m)'], hue='Course ID')"
   ]
  },
  {
   "cell_type": "markdown",
   "id": "7d88c4a9",
   "metadata": {
    "id": "7d88c4a9"
   },
   "source": [
    "### Display the Heatmap and comment on your findings\n",
    "![image.png](attachment:image.png)"
   ]
  },
  {
   "cell_type": "code",
   "execution_count": 26,
   "id": "250a6397",
   "metadata": {
    "colab": {
     "base_uri": "https://localhost:8080/",
     "height": 269
    },
    "id": "250a6397",
    "outputId": "cfa64a2d-1390-468d-8fa7-912d7d6c9483"
   },
   "outputs": [
    {
     "data": {
      "image/png": "[encoded data removed]",
      "text/plain": [
       "<Figure size 432x288 with 2 Axes>"
      ]
     },
     "metadata": {
      "needs_background": "light"
     },
     "output_type": "display_data"
    }
   ],
   "source": [
    "sns.heatmap(df.corr(), annot=True, cmap='coolwarm')\n",
    "plt.show()"
   ]
  },
  {
   "cell_type": "code",
   "execution_count": null,
   "id": "d69856ff",
   "metadata": {
    "id": "d69856ff"
   },
   "outputs": [],
   "source": []
  }
 ],
 "metadata": {
  "accelerator": "TPU",
  "colab": {
   "provenance": []
  },
  "gpuClass": "standard",
  "kernelspec": {
   "display_name": "Python 3 (ipykernel)",
   "language": "python",
   "name": "python3"
  },
  "language_info": {
   "codemirror_mode": {
    "name": "ipython",
    "version": 3
   },
   "file_extension": ".py",
   "mimetype": "text/x-python",
   "name": "python",
   "nbconvert_exporter": "python",
   "pygments_lexer": "ipython3",
   "version": "3.9.13"
  }
 },
 "nbformat": 4,
 "nbformat_minor": 5
}
